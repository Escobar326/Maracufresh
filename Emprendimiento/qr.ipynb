{
 "cells": [
  {
   "cell_type": "code",
   "execution_count": null,
   "metadata": {},
   "outputs": [],
   "source": [
    "import qrcode\n",
    "from IPython.display import Image\n",
    "codigo=qrcode.make('https://www.instagram.com/maracufreshoficial?igsh=MXJla3NjZWRlaGNrOQ==')\n",
    "codigo.save('codigoxxx.png')\n",
    "Image('codigoxxx.png',width=100,height=100)\n"
   ]
  }
 ],
 "metadata": {
  "language_info": {
   "name": "python"
  }
 },
 "nbformat": 4,
 "nbformat_minor": 2
}
